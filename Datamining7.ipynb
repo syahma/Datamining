{
  "nbformat": 4,
  "nbformat_minor": 0,
  "metadata": {
    "colab": {
      "name": "Datamining7.ipynb",
      "provenance": [],
      "authorship_tag": "ABX9TyMvuRFHcvR4Qg1JL4vtiyWS",
      "include_colab_link": true
    },
    "kernelspec": {
      "name": "python3",
      "display_name": "Python 3"
    },
    "language_info": {
      "name": "python"
    }
  },
  "cells": [
    {
      "cell_type": "markdown",
      "metadata": {
        "id": "view-in-github",
        "colab_type": "text"
      },
      "source": [
        "<a href=\"https://colab.research.google.com/github/syahma/Datamining/blob/main/Datamining7.ipynb\" target=\"_parent\"><img src=\"https://colab.research.google.com/assets/colab-badge.svg\" alt=\"Open In Colab\"/></a>"
      ]
    },
    {
      "cell_type": "code",
      "metadata": {
        "id": "DU6MFmv19XKo"
      },
      "source": [
        "import numpy as np \n",
        "import pandas as pd \n",
        "from sklearn import tree\n"
      ],
      "execution_count": 24,
      "outputs": []
    },
    {
      "cell_type": "code",
      "metadata": {
        "id": "tEgYQeH6-XiC"
      },
      "source": [
        "irisDataset = pd.read_csv ('Datamining7.2.csv', delimiter=';', header=0)\n"
      ],
      "execution_count": 26,
      "outputs": []
    },
    {
      "cell_type": "code",
      "metadata": {
        "colab": {
          "base_uri": "https://localhost:8080/",
          "height": 195
        },
        "id": "ARotl1C__X43",
        "outputId": "1ace46bc-6ab5-4ce0-e2c3-c1bcf378e63c"
      },
      "source": [
        "irisDataset.head()"
      ],
      "execution_count": 27,
      "outputs": [
        {
          "output_type": "execute_result",
          "data": {
            "text/html": [
              "<div>\n",
              "<style scoped>\n",
              "    .dataframe tbody tr th:only-of-type {\n",
              "        vertical-align: middle;\n",
              "    }\n",
              "\n",
              "    .dataframe tbody tr th {\n",
              "        vertical-align: top;\n",
              "    }\n",
              "\n",
              "    .dataframe thead th {\n",
              "        text-align: right;\n",
              "    }\n",
              "</style>\n",
              "<table border=\"1\" class=\"dataframe\">\n",
              "  <thead>\n",
              "    <tr style=\"text-align: right;\">\n",
              "      <th></th>\n",
              "      <th>Id</th>\n",
              "      <th>SepalLengthCm</th>\n",
              "      <th>SepalWidthCm</th>\n",
              "      <th>PetalLengthCm</th>\n",
              "      <th>PetalWidthCm</th>\n",
              "      <th>Species</th>\n",
              "    </tr>\n",
              "  </thead>\n",
              "  <tbody>\n",
              "    <tr>\n",
              "      <th>0</th>\n",
              "      <td>1</td>\n",
              "      <td>7.00</td>\n",
              "      <td>3.02</td>\n",
              "      <td>4.07</td>\n",
              "      <td>1.04</td>\n",
              "      <td>Iris-versicolor</td>\n",
              "    </tr>\n",
              "    <tr>\n",
              "      <th>1</th>\n",
              "      <td>2</td>\n",
              "      <td>6.04</td>\n",
              "      <td>3.02</td>\n",
              "      <td>4.05</td>\n",
              "      <td>1.05</td>\n",
              "      <td>Iris-versicolor</td>\n",
              "    </tr>\n",
              "    <tr>\n",
              "      <th>2</th>\n",
              "      <td>3</td>\n",
              "      <td>6.09</td>\n",
              "      <td>3.01</td>\n",
              "      <td>4.09</td>\n",
              "      <td>1.05</td>\n",
              "      <td>Iris-versicolor</td>\n",
              "    </tr>\n",
              "    <tr>\n",
              "      <th>3</th>\n",
              "      <td>4</td>\n",
              "      <td>5.05</td>\n",
              "      <td>2.03</td>\n",
              "      <td>4.00</td>\n",
              "      <td>1.03</td>\n",
              "      <td>Iris-versicolor</td>\n",
              "    </tr>\n",
              "    <tr>\n",
              "      <th>4</th>\n",
              "      <td>5</td>\n",
              "      <td>6.05</td>\n",
              "      <td>2.08</td>\n",
              "      <td>4.06</td>\n",
              "      <td>1.05</td>\n",
              "      <td>Iris-versicolor</td>\n",
              "    </tr>\n",
              "  </tbody>\n",
              "</table>\n",
              "</div>"
            ],
            "text/plain": [
              "   Id  SepalLengthCm  ...  PetalWidthCm          Species\n",
              "0   1           7.00  ...          1.04  Iris-versicolor\n",
              "1   2           6.04  ...          1.05  Iris-versicolor\n",
              "2   3           6.09  ...          1.05  Iris-versicolor\n",
              "3   4           5.05  ...          1.03  Iris-versicolor\n",
              "4   5           6.05  ...          1.05  Iris-versicolor\n",
              "\n",
              "[5 rows x 6 columns]"
            ]
          },
          "metadata": {
            "tags": []
          },
          "execution_count": 27
        }
      ]
    },
    {
      "cell_type": "code",
      "metadata": {
        "id": "dL2NG1W4-sGf"
      },
      "source": [
        "irisDataset[\"Species\"]=pd.factorize(irisDataset.Species)[0]"
      ],
      "execution_count": 29,
      "outputs": []
    },
    {
      "cell_type": "code",
      "metadata": {
        "colab": {
          "base_uri": "https://localhost:8080/",
          "height": 195
        },
        "id": "mgWgPe4qD_2E",
        "outputId": "f0f6f6cf-b08c-4bff-8714-3a1980d91cc7"
      },
      "source": [
        "irisDataset.head()"
      ],
      "execution_count": 30,
      "outputs": [
        {
          "output_type": "execute_result",
          "data": {
            "text/html": [
              "<div>\n",
              "<style scoped>\n",
              "    .dataframe tbody tr th:only-of-type {\n",
              "        vertical-align: middle;\n",
              "    }\n",
              "\n",
              "    .dataframe tbody tr th {\n",
              "        vertical-align: top;\n",
              "    }\n",
              "\n",
              "    .dataframe thead th {\n",
              "        text-align: right;\n",
              "    }\n",
              "</style>\n",
              "<table border=\"1\" class=\"dataframe\">\n",
              "  <thead>\n",
              "    <tr style=\"text-align: right;\">\n",
              "      <th></th>\n",
              "      <th>Id</th>\n",
              "      <th>SepalLengthCm</th>\n",
              "      <th>SepalWidthCm</th>\n",
              "      <th>PetalLengthCm</th>\n",
              "      <th>PetalWidthCm</th>\n",
              "      <th>Species</th>\n",
              "    </tr>\n",
              "  </thead>\n",
              "  <tbody>\n",
              "    <tr>\n",
              "      <th>0</th>\n",
              "      <td>1</td>\n",
              "      <td>7.00</td>\n",
              "      <td>3.02</td>\n",
              "      <td>4.07</td>\n",
              "      <td>1.04</td>\n",
              "      <td>0</td>\n",
              "    </tr>\n",
              "    <tr>\n",
              "      <th>1</th>\n",
              "      <td>2</td>\n",
              "      <td>6.04</td>\n",
              "      <td>3.02</td>\n",
              "      <td>4.05</td>\n",
              "      <td>1.05</td>\n",
              "      <td>0</td>\n",
              "    </tr>\n",
              "    <tr>\n",
              "      <th>2</th>\n",
              "      <td>3</td>\n",
              "      <td>6.09</td>\n",
              "      <td>3.01</td>\n",
              "      <td>4.09</td>\n",
              "      <td>1.05</td>\n",
              "      <td>0</td>\n",
              "    </tr>\n",
              "    <tr>\n",
              "      <th>3</th>\n",
              "      <td>4</td>\n",
              "      <td>5.05</td>\n",
              "      <td>2.03</td>\n",
              "      <td>4.00</td>\n",
              "      <td>1.03</td>\n",
              "      <td>0</td>\n",
              "    </tr>\n",
              "    <tr>\n",
              "      <th>4</th>\n",
              "      <td>5</td>\n",
              "      <td>6.05</td>\n",
              "      <td>2.08</td>\n",
              "      <td>4.06</td>\n",
              "      <td>1.05</td>\n",
              "      <td>0</td>\n",
              "    </tr>\n",
              "  </tbody>\n",
              "</table>\n",
              "</div>"
            ],
            "text/plain": [
              "   Id  SepalLengthCm  SepalWidthCm  PetalLengthCm  PetalWidthCm  Species\n",
              "0   1           7.00          3.02           4.07          1.04        0\n",
              "1   2           6.04          3.02           4.05          1.05        0\n",
              "2   3           6.09          3.01           4.09          1.05        0\n",
              "3   4           5.05          2.03           4.00          1.03        0\n",
              "4   5           6.05          2.08           4.06          1.05        0"
            ]
          },
          "metadata": {
            "tags": []
          },
          "execution_count": 30
        }
      ]
    },
    {
      "cell_type": "code",
      "metadata": {
        "colab": {
          "base_uri": "https://localhost:8080/"
        },
        "id": "CK1JuJDrECj7",
        "outputId": "01300475-59dd-45ec-c73d-c2a2653518ba"
      },
      "source": [
        "print(irisDataset)"
      ],
      "execution_count": 31,
      "outputs": [
        {
          "output_type": "stream",
          "text": [
            "     Id  SepalLengthCm  SepalWidthCm  PetalLengthCm  PetalWidthCm  Species\n",
            "0     1           7.00          3.02           4.07          1.04        0\n",
            "1     2           6.04          3.02           4.05          1.05        0\n",
            "2     3           6.09          3.01           4.09          1.05        0\n",
            "3     4           5.05          2.03           4.00          1.03        0\n",
            "4     5           6.05          2.08           4.06          1.05        0\n",
            "..  ...            ...           ...            ...           ...      ...\n",
            "95   96           6.07          3.00           5.02          2.03        1\n",
            "96   97           6.03          2.05           5.00          1.09        1\n",
            "97   98           6.05          3.00           5.02          2.00        1\n",
            "98   99           6.02          3.04           5.04          2.03        1\n",
            "99  100           5.09          3.00           5.01          1.08        1\n",
            "\n",
            "[100 rows x 6 columns]\n"
          ],
          "name": "stdout"
        }
      ]
    },
    {
      "cell_type": "code",
      "metadata": {
        "id": "ogQOMDbnER1y"
      },
      "source": [
        "irisDataset = irisDataset.drop(labels=\"Id\", axis=1)"
      ],
      "execution_count": 33,
      "outputs": []
    },
    {
      "cell_type": "code",
      "metadata": {
        "colab": {
          "base_uri": "https://localhost:8080/"
        },
        "id": "3MOH6ilYExfh",
        "outputId": "3a2566f7-d691-4a39-9859-96de36df7883"
      },
      "source": [
        "print(irisDataset)"
      ],
      "execution_count": 34,
      "outputs": [
        {
          "output_type": "stream",
          "text": [
            "    SepalLengthCm  SepalWidthCm  PetalLengthCm  PetalWidthCm  Species\n",
            "0            7.00          3.02           4.07          1.04        0\n",
            "1            6.04          3.02           4.05          1.05        0\n",
            "2            6.09          3.01           4.09          1.05        0\n",
            "3            5.05          2.03           4.00          1.03        0\n",
            "4            6.05          2.08           4.06          1.05        0\n",
            "..            ...           ...            ...           ...      ...\n",
            "95           6.07          3.00           5.02          2.03        1\n",
            "96           6.03          2.05           5.00          1.09        1\n",
            "97           6.05          3.00           5.02          2.00        1\n",
            "98           6.02          3.04           5.04          2.03        1\n",
            "99           5.09          3.00           5.01          1.08        1\n",
            "\n",
            "[100 rows x 5 columns]\n"
          ],
          "name": "stdout"
        }
      ]
    },
    {
      "cell_type": "code",
      "metadata": {
        "id": "VV4wANSGE48J"
      },
      "source": [
        "irisDataset = irisDataset.to_numpy()"
      ],
      "execution_count": 35,
      "outputs": []
    },
    {
      "cell_type": "code",
      "metadata": {
        "colab": {
          "base_uri": "https://localhost:8080/"
        },
        "id": "UEMkVFY-FErI",
        "outputId": "31094056-85e4-4120-d49c-8009d6d61a46"
      },
      "source": [
        "print(irisDataset)"
      ],
      "execution_count": 36,
      "outputs": [
        {
          "output_type": "stream",
          "text": [
            "[[7.   3.02 4.07 1.04 0.  ]\n",
            " [6.04 3.02 4.05 1.05 0.  ]\n",
            " [6.09 3.01 4.09 1.05 0.  ]\n",
            " [5.05 2.03 4.   1.03 0.  ]\n",
            " [6.05 2.08 4.06 1.05 0.  ]\n",
            " [5.07 2.08 4.05 1.03 0.  ]\n",
            " [6.03 3.03 4.07 1.06 0.  ]\n",
            " [4.09 2.04 3.03 1.   0.  ]\n",
            " [6.06 2.09 4.06 1.03 0.  ]\n",
            " [5.02 2.07 3.09 1.04 0.  ]\n",
            " [5.   2.   3.05 1.   0.  ]\n",
            " [5.09 3.   4.02 1.05 0.  ]\n",
            " [6.   2.02 4.   1.   0.  ]\n",
            " [6.01 2.09 4.07 1.04 0.  ]\n",
            " [5.06 2.09 3.06 1.03 0.  ]\n",
            " [6.07 3.01 4.04 1.04 0.  ]\n",
            " [5.06 3.   4.05 1.05 0.  ]\n",
            " [5.08 2.07 4.01 1.   0.  ]\n",
            " [6.02 2.02 4.05 1.05 0.  ]\n",
            " [5.06 2.05 3.09 1.01 0.  ]\n",
            " [5.09 3.02 4.08 1.08 0.  ]\n",
            " [6.01 2.08 4.   1.03 0.  ]\n",
            " [6.03 2.05 4.09 1.05 0.  ]\n",
            " [6.01 2.08 4.07 1.02 0.  ]\n",
            " [6.04 2.09 4.03 1.03 0.  ]\n",
            " [6.06 3.   4.04 1.04 0.  ]\n",
            " [6.08 2.08 4.08 1.04 0.  ]\n",
            " [6.07 3.   5.   1.07 0.  ]\n",
            " [6.   2.09 4.05 1.05 0.  ]\n",
            " [5.07 2.06 3.05 1.   0.  ]\n",
            " [5.05 2.04 3.08 1.01 0.  ]\n",
            " [5.05 2.04 3.07 1.   0.  ]\n",
            " [5.08 2.07 3.09 1.02 0.  ]\n",
            " [6.   2.07 5.01 1.06 0.  ]\n",
            " [5.04 3.   4.05 1.05 0.  ]\n",
            " [6.   3.04 4.05 1.06 0.  ]\n",
            " [6.07 3.01 4.07 1.05 0.  ]\n",
            " [6.03 2.03 4.04 1.03 0.  ]\n",
            " [5.06 3.   4.01 1.03 0.  ]\n",
            " [5.05 2.05 4.   1.03 0.  ]\n",
            " [5.05 2.06 4.04 1.02 0.  ]\n",
            " [6.01 3.   4.06 1.04 0.  ]\n",
            " [5.08 2.06 4.   1.02 0.  ]\n",
            " [5.   2.03 3.03 1.   0.  ]\n",
            " [5.06 2.07 4.02 1.03 0.  ]\n",
            " [5.07 3.   4.02 1.02 0.  ]\n",
            " [5.07 2.09 4.02 1.03 0.  ]\n",
            " [6.02 2.09 4.03 1.03 0.  ]\n",
            " [5.01 2.05 3.   1.01 0.  ]\n",
            " [5.07 2.08 4.01 1.03 0.  ]\n",
            " [6.03 3.03 6.   2.05 1.  ]\n",
            " [5.08 2.07 5.01 1.09 1.  ]\n",
            " [7.01 3.   5.09 2.01 1.  ]\n",
            " [6.03 2.09 5.06 1.08 1.  ]\n",
            " [6.05 3.   5.08 2.02 1.  ]\n",
            " [7.06 3.   6.06 2.01 1.  ]\n",
            " [4.09 2.05 4.05 1.07 1.  ]\n",
            " [7.03 2.09 6.03 1.08 1.  ]\n",
            " [6.07 2.05 5.08 1.08 1.  ]\n",
            " [7.02 3.06 6.01 2.05 1.  ]\n",
            " [6.05 3.02 5.01 2.   1.  ]\n",
            " [6.04 2.07 5.03 1.09 1.  ]\n",
            " [6.08 3.   5.05 2.01 1.  ]\n",
            " [5.07 2.05 5.   2.   1.  ]\n",
            " [5.08 2.08 5.01 2.04 1.  ]\n",
            " [6.04 3.02 5.03 2.03 1.  ]\n",
            " [6.05 3.   5.05 1.08 1.  ]\n",
            " [7.07 3.08 6.07 2.02 1.  ]\n",
            " [7.07 2.06 6.09 2.03 1.  ]\n",
            " [6.   2.02 5.   1.05 1.  ]\n",
            " [6.09 3.02 5.07 2.03 1.  ]\n",
            " [5.06 2.08 4.09 2.   1.  ]\n",
            " [7.07 2.08 6.07 2.   1.  ]\n",
            " [6.03 2.07 4.09 1.08 1.  ]\n",
            " [6.07 3.03 5.07 2.01 1.  ]\n",
            " [7.02 3.02 6.   1.08 1.  ]\n",
            " [6.02 2.08 4.08 1.08 1.  ]\n",
            " [6.01 3.   4.09 1.08 1.  ]\n",
            " [6.04 2.08 5.06 2.01 1.  ]\n",
            " [7.02 3.   5.08 1.06 1.  ]\n",
            " [7.04 2.08 6.01 1.09 1.  ]\n",
            " [7.09 3.08 6.04 2.   1.  ]\n",
            " [6.04 2.08 5.06 2.02 1.  ]\n",
            " [6.03 2.08 5.01 1.05 1.  ]\n",
            " [6.01 2.06 5.06 1.04 1.  ]\n",
            " [7.07 3.   6.01 2.03 1.  ]\n",
            " [6.03 3.04 5.06 2.04 1.  ]\n",
            " [6.04 3.01 5.05 1.08 1.  ]\n",
            " [6.   3.   4.08 1.08 1.  ]\n",
            " [6.09 3.01 5.04 2.01 1.  ]\n",
            " [6.07 3.01 5.06 2.04 1.  ]\n",
            " [6.09 3.01 5.01 2.03 1.  ]\n",
            " [5.08 2.07 5.01 1.09 1.  ]\n",
            " [6.08 3.02 5.09 2.03 1.  ]\n",
            " [6.07 3.03 5.07 2.05 1.  ]\n",
            " [6.07 3.   5.02 2.03 1.  ]\n",
            " [6.03 2.05 5.   1.09 1.  ]\n",
            " [6.05 3.   5.02 2.   1.  ]\n",
            " [6.02 3.04 5.04 2.03 1.  ]\n",
            " [5.09 3.   5.01 1.08 1.  ]]\n"
          ],
          "name": "stdout"
        }
      ]
    },
    {
      "cell_type": "code",
      "metadata": {
        "id": "fHFg1bDQFJBp"
      },
      "source": [
        "dataTraining = np.concatenate((irisDataset[0:40, :], irisDataset[50:90, :]), axis=0)\n",
        "dataTesting = np.concatenate((irisDataset[40:50, :], irisDataset[90:100, :]), axis=0)"
      ],
      "execution_count": 37,
      "outputs": []
    },
    {
      "cell_type": "code",
      "metadata": {
        "colab": {
          "base_uri": "https://localhost:8080/"
        },
        "id": "BqD5M9KbFvH7",
        "outputId": "5066e624-507b-42e9-9218-9dfb0a423232"
      },
      "source": [
        "print(dataTraining)\n",
        "len(dataTraining)"
      ],
      "execution_count": 38,
      "outputs": [
        {
          "output_type": "stream",
          "text": [
            "[[7.   3.02 4.07 1.04 0.  ]\n",
            " [6.04 3.02 4.05 1.05 0.  ]\n",
            " [6.09 3.01 4.09 1.05 0.  ]\n",
            " [5.05 2.03 4.   1.03 0.  ]\n",
            " [6.05 2.08 4.06 1.05 0.  ]\n",
            " [5.07 2.08 4.05 1.03 0.  ]\n",
            " [6.03 3.03 4.07 1.06 0.  ]\n",
            " [4.09 2.04 3.03 1.   0.  ]\n",
            " [6.06 2.09 4.06 1.03 0.  ]\n",
            " [5.02 2.07 3.09 1.04 0.  ]\n",
            " [5.   2.   3.05 1.   0.  ]\n",
            " [5.09 3.   4.02 1.05 0.  ]\n",
            " [6.   2.02 4.   1.   0.  ]\n",
            " [6.01 2.09 4.07 1.04 0.  ]\n",
            " [5.06 2.09 3.06 1.03 0.  ]\n",
            " [6.07 3.01 4.04 1.04 0.  ]\n",
            " [5.06 3.   4.05 1.05 0.  ]\n",
            " [5.08 2.07 4.01 1.   0.  ]\n",
            " [6.02 2.02 4.05 1.05 0.  ]\n",
            " [5.06 2.05 3.09 1.01 0.  ]\n",
            " [5.09 3.02 4.08 1.08 0.  ]\n",
            " [6.01 2.08 4.   1.03 0.  ]\n",
            " [6.03 2.05 4.09 1.05 0.  ]\n",
            " [6.01 2.08 4.07 1.02 0.  ]\n",
            " [6.04 2.09 4.03 1.03 0.  ]\n",
            " [6.06 3.   4.04 1.04 0.  ]\n",
            " [6.08 2.08 4.08 1.04 0.  ]\n",
            " [6.07 3.   5.   1.07 0.  ]\n",
            " [6.   2.09 4.05 1.05 0.  ]\n",
            " [5.07 2.06 3.05 1.   0.  ]\n",
            " [5.05 2.04 3.08 1.01 0.  ]\n",
            " [5.05 2.04 3.07 1.   0.  ]\n",
            " [5.08 2.07 3.09 1.02 0.  ]\n",
            " [6.   2.07 5.01 1.06 0.  ]\n",
            " [5.04 3.   4.05 1.05 0.  ]\n",
            " [6.   3.04 4.05 1.06 0.  ]\n",
            " [6.07 3.01 4.07 1.05 0.  ]\n",
            " [6.03 2.03 4.04 1.03 0.  ]\n",
            " [5.06 3.   4.01 1.03 0.  ]\n",
            " [5.05 2.05 4.   1.03 0.  ]\n",
            " [6.03 3.03 6.   2.05 1.  ]\n",
            " [5.08 2.07 5.01 1.09 1.  ]\n",
            " [7.01 3.   5.09 2.01 1.  ]\n",
            " [6.03 2.09 5.06 1.08 1.  ]\n",
            " [6.05 3.   5.08 2.02 1.  ]\n",
            " [7.06 3.   6.06 2.01 1.  ]\n",
            " [4.09 2.05 4.05 1.07 1.  ]\n",
            " [7.03 2.09 6.03 1.08 1.  ]\n",
            " [6.07 2.05 5.08 1.08 1.  ]\n",
            " [7.02 3.06 6.01 2.05 1.  ]\n",
            " [6.05 3.02 5.01 2.   1.  ]\n",
            " [6.04 2.07 5.03 1.09 1.  ]\n",
            " [6.08 3.   5.05 2.01 1.  ]\n",
            " [5.07 2.05 5.   2.   1.  ]\n",
            " [5.08 2.08 5.01 2.04 1.  ]\n",
            " [6.04 3.02 5.03 2.03 1.  ]\n",
            " [6.05 3.   5.05 1.08 1.  ]\n",
            " [7.07 3.08 6.07 2.02 1.  ]\n",
            " [7.07 2.06 6.09 2.03 1.  ]\n",
            " [6.   2.02 5.   1.05 1.  ]\n",
            " [6.09 3.02 5.07 2.03 1.  ]\n",
            " [5.06 2.08 4.09 2.   1.  ]\n",
            " [7.07 2.08 6.07 2.   1.  ]\n",
            " [6.03 2.07 4.09 1.08 1.  ]\n",
            " [6.07 3.03 5.07 2.01 1.  ]\n",
            " [7.02 3.02 6.   1.08 1.  ]\n",
            " [6.02 2.08 4.08 1.08 1.  ]\n",
            " [6.01 3.   4.09 1.08 1.  ]\n",
            " [6.04 2.08 5.06 2.01 1.  ]\n",
            " [7.02 3.   5.08 1.06 1.  ]\n",
            " [7.04 2.08 6.01 1.09 1.  ]\n",
            " [7.09 3.08 6.04 2.   1.  ]\n",
            " [6.04 2.08 5.06 2.02 1.  ]\n",
            " [6.03 2.08 5.01 1.05 1.  ]\n",
            " [6.01 2.06 5.06 1.04 1.  ]\n",
            " [7.07 3.   6.01 2.03 1.  ]\n",
            " [6.03 3.04 5.06 2.04 1.  ]\n",
            " [6.04 3.01 5.05 1.08 1.  ]\n",
            " [6.   3.   4.08 1.08 1.  ]\n",
            " [6.09 3.01 5.04 2.01 1.  ]]\n"
          ],
          "name": "stdout"
        },
        {
          "output_type": "execute_result",
          "data": {
            "text/plain": [
              "80"
            ]
          },
          "metadata": {
            "tags": []
          },
          "execution_count": 38
        }
      ]
    },
    {
      "cell_type": "code",
      "metadata": {
        "colab": {
          "base_uri": "https://localhost:8080/"
        },
        "id": "dH2gpeSPF30Q",
        "outputId": "425e2dfc-8ded-4aee-8cd0-3ec681db73ba"
      },
      "source": [
        "print(dataTesting)\n",
        "len(dataTesting)"
      ],
      "execution_count": 39,
      "outputs": [
        {
          "output_type": "stream",
          "text": [
            "[[5.05 2.06 4.04 1.02 0.  ]\n",
            " [6.01 3.   4.06 1.04 0.  ]\n",
            " [5.08 2.06 4.   1.02 0.  ]\n",
            " [5.   2.03 3.03 1.   0.  ]\n",
            " [5.06 2.07 4.02 1.03 0.  ]\n",
            " [5.07 3.   4.02 1.02 0.  ]\n",
            " [5.07 2.09 4.02 1.03 0.  ]\n",
            " [6.02 2.09 4.03 1.03 0.  ]\n",
            " [5.01 2.05 3.   1.01 0.  ]\n",
            " [5.07 2.08 4.01 1.03 0.  ]\n",
            " [6.07 3.01 5.06 2.04 1.  ]\n",
            " [6.09 3.01 5.01 2.03 1.  ]\n",
            " [5.08 2.07 5.01 1.09 1.  ]\n",
            " [6.08 3.02 5.09 2.03 1.  ]\n",
            " [6.07 3.03 5.07 2.05 1.  ]\n",
            " [6.07 3.   5.02 2.03 1.  ]\n",
            " [6.03 2.05 5.   1.09 1.  ]\n",
            " [6.05 3.   5.02 2.   1.  ]\n",
            " [6.02 3.04 5.04 2.03 1.  ]\n",
            " [5.09 3.   5.01 1.08 1.  ]]\n"
          ],
          "name": "stdout"
        },
        {
          "output_type": "execute_result",
          "data": {
            "text/plain": [
              "20"
            ]
          },
          "metadata": {
            "tags": []
          },
          "execution_count": 39
        }
      ]
    },
    {
      "cell_type": "code",
      "metadata": {
        "colab": {
          "base_uri": "https://localhost:8080/"
        },
        "id": "sRu67jpyIX3f",
        "outputId": "62a432d2-d6a4-4a41-f504-43459e962775"
      },
      "source": [
        "inputTraining = dataTraining[:, 0:4]\n",
        "inputTesting = dataTesting[:, 0:4]\n",
        "labelTraining = dataTraining[:, 4]\n",
        "labelTesting = dataTesting[:, 4]\n",
        "print(labelTraining)\n",
        "len(labelTraining)"
      ],
      "execution_count": 53,
      "outputs": [
        {
          "output_type": "stream",
          "text": [
            "[0. 0. 0. 0. 0. 0. 0. 0. 0. 0. 0. 0. 0. 0. 0. 0. 0. 0. 0. 0. 0. 0. 0. 0.\n",
            " 0. 0. 0. 0. 0. 0. 0. 0. 0. 0. 0. 0. 0. 0. 0. 0. 1. 1. 1. 1. 1. 1. 1. 1.\n",
            " 1. 1. 1. 1. 1. 1. 1. 1. 1. 1. 1. 1. 1. 1. 1. 1. 1. 1. 1. 1. 1. 1. 1. 1.\n",
            " 1. 1. 1. 1. 1. 1. 1. 1.]\n"
          ],
          "name": "stdout"
        },
        {
          "output_type": "execute_result",
          "data": {
            "text/plain": [
              "80"
            ]
          },
          "metadata": {
            "tags": []
          },
          "execution_count": 53
        }
      ]
    },
    {
      "cell_type": "code",
      "metadata": {
        "id": "i9mnu7fLF8Q5"
      },
      "source": [
        "model = tree.DecisionTreeClassifier()"
      ],
      "execution_count": 54,
      "outputs": []
    },
    {
      "cell_type": "code",
      "metadata": {
        "id": "xDkYaAfsGJsy"
      },
      "source": [
        "model = model.fit(inputTraining, labelTraining)"
      ],
      "execution_count": 56,
      "outputs": []
    },
    {
      "cell_type": "code",
      "metadata": {
        "colab": {
          "base_uri": "https://localhost:8080/"
        },
        "id": "3yOg9QRlHj35",
        "outputId": "b84c47c6-6d32-4178-f540-d19f9e48530f"
      },
      "source": [
        "hasilPrediksi = model.predict(inputTesting)\n",
        "print(\"Label Sebenarnya : \", labelTesting)\n",
        "print(\"Hasil Prediksi : \", hasilPrediksi)"
      ],
      "execution_count": 57,
      "outputs": [
        {
          "output_type": "stream",
          "text": [
            "Label Sebenarnya :  [0. 0. 0. 0. 0. 0. 0. 0. 0. 0. 1. 1. 1. 1. 1. 1. 1. 1. 1. 1.]\n",
            "Hasil Prediksi :  [0. 0. 0. 0. 0. 0. 0. 0. 0. 0. 1. 1. 1. 1. 1. 1. 1. 1. 1. 1.]\n"
          ],
          "name": "stdout"
        }
      ]
    },
    {
      "cell_type": "code",
      "metadata": {
        "colab": {
          "base_uri": "https://localhost:8080/"
        },
        "id": "AiskFyvnJFL2",
        "outputId": "14d065e2-a074-4393-da49-cebebe50e1d9"
      },
      "source": [
        "prediksiBenar = (hasilPrediksi == labelTesting).sum()\n",
        "prediksiSalah = (hasilPrediksi != labelTesting).sum()\n",
        "print(\"Prediksi Benar :\", prediksiBenar, \"data\")\n",
        "print(\"Prediksi Salah :\", prediksiSalah, \"data\")\n",
        "print(\"Akurasi :\", prediksiBenar/(prediksiBenar+prediksiSalah) * 100, \"%\")\n"
      ],
      "execution_count": 58,
      "outputs": [
        {
          "output_type": "stream",
          "text": [
            "Prediksi Benar : 20 data\n",
            "Prediksi Salah : 0 data\n",
            "Akurasi : 100.0 %\n"
          ],
          "name": "stdout"
        }
      ]
    }
  ]
}