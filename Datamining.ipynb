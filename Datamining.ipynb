{
  "nbformat": 4,
  "nbformat_minor": 0,
  "metadata": {
    "colab": {
      "name": "Datamining.ipynb",
      "provenance": [],
      "collapsed_sections": []
    },
    "kernelspec": {
      "name": "python3",
      "display_name": "Python 3"
    },
    "language_info": {
      "name": "python"
    }
  },
  "cells": [
    {
      "cell_type": "code",
      "metadata": {
        "id": "OlJ7seeFRpHe"
      },
      "source": [
        "import numpy as np\n",
        "import matplotlib.pyplot as plt\n",
        "import pandas as pd\n"
      ],
      "execution_count": 2,
      "outputs": []
    },
    {
      "cell_type": "code",
      "metadata": {
        "id": "wLObGtxhST_0"
      },
      "source": [
        "dataset = pd.read_csv('Datamining.csv')\n",
        "x = dataset.iloc[:, :-1].values\n",
        "y = dataset.iloc[:, -1].values\n"
      ],
      "execution_count": 4,
      "outputs": []
    },
    {
      "cell_type": "code",
      "metadata": {
        "colab": {
          "base_uri": "https://localhost:8080/"
        },
        "id": "FmLMi4vQTN90",
        "outputId": "443e7bef-cdc4-4316-daff-ea29d562898c"
      },
      "source": [
        "print(x)"
      ],
      "execution_count": 6,
      "outputs": [
        {
          "output_type": "stream",
          "text": [
            "[['Semarang' 38.0 82000.0]\n",
            " ['Surabaya' 41.0 90000.0]\n",
            " ['Jogja' 35.0 70000.0]\n",
            " ['Surabaya' 43.0 89000.0]\n",
            " ['Jogja' 44.0 nan]\n",
            " ['Semarang' 31.0 94000.0]\n",
            " ['Jogja' nan 59000.0]\n",
            " ['Surabaya' 35.0 87000.0]\n",
            " ['Semarang' 37.0 80000.0]\n",
            " ['Surabaya' 50.0 78000.0]]\n"
          ],
          "name": "stdout"
        }
      ]
    },
    {
      "cell_type": "code",
      "metadata": {
        "colab": {
          "base_uri": "https://localhost:8080/"
        },
        "id": "tSSZa2_sTdhi",
        "outputId": "ded0c9db-c5d6-4877-d334-a1bfe93a55aa"
      },
      "source": [
        "print(y)"
      ],
      "execution_count": 7,
      "outputs": [
        {
          "output_type": "stream",
          "text": [
            "['No' 'Yes' 'Yes' 'No' 'No' 'Yes' 'No' 'Yes' 'No' 'Yes']\n"
          ],
          "name": "stdout"
        }
      ]
    },
    {
      "cell_type": "code",
      "metadata": {
        "id": "eL2fexmgTpCK"
      },
      "source": [
        "from sklearn.impute import SimpleImputer\n",
        "imputer = SimpleImputer(missing_values=np.nan, strategy='mean')\n",
        "imputer.fit(x[:, 1:3])\n",
        "x[:, 1:3] = imputer.transform(x[:, 1:3])"
      ],
      "execution_count": 8,
      "outputs": []
    },
    {
      "cell_type": "code",
      "metadata": {
        "colab": {
          "base_uri": "https://localhost:8080/"
        },
        "id": "Hx8O34cmUifh",
        "outputId": "1ac01408-e669-403f-f3c5-a6b9cabf5531"
      },
      "source": [
        "print(x)"
      ],
      "execution_count": 9,
      "outputs": [
        {
          "output_type": "stream",
          "text": [
            "[['Semarang' 38.0 82000.0]\n",
            " ['Surabaya' 41.0 90000.0]\n",
            " ['Jogja' 35.0 70000.0]\n",
            " ['Surabaya' 43.0 89000.0]\n",
            " ['Jogja' 44.0 81000.0]\n",
            " ['Semarang' 31.0 94000.0]\n",
            " ['Jogja' 39.333333333333336 59000.0]\n",
            " ['Surabaya' 35.0 87000.0]\n",
            " ['Semarang' 37.0 80000.0]\n",
            " ['Surabaya' 50.0 78000.0]]\n"
          ],
          "name": "stdout"
        }
      ]
    },
    {
      "cell_type": "code",
      "metadata": {
        "id": "aUph7PiQU0ly"
      },
      "source": [
        "from sklearn.compose import ColumnTransformer\n",
        "from sklearn.preprocessing import OneHotEncoder\n",
        "ct = ColumnTransformer(transformers=[('encoder', OneHotEncoder(), [0])], remainder='passthrough')\n",
        "x = np.array(ct.fit_transform(x))"
      ],
      "execution_count": 14,
      "outputs": []
    },
    {
      "cell_type": "code",
      "metadata": {
        "colab": {
          "base_uri": "https://localhost:8080/"
        },
        "id": "oDNIG_gLWyeo",
        "outputId": "4b4bcafb-5d38-45dc-e2af-4f8216385ceb"
      },
      "source": [
        "print(x)"
      ],
      "execution_count": 15,
      "outputs": [
        {
          "output_type": "stream",
          "text": [
            "[[0.0 1.0 0.0 38.0 82000.0]\n",
            " [0.0 0.0 1.0 41.0 90000.0]\n",
            " [1.0 0.0 0.0 35.0 70000.0]\n",
            " [0.0 0.0 1.0 43.0 89000.0]\n",
            " [1.0 0.0 0.0 44.0 81000.0]\n",
            " [0.0 1.0 0.0 31.0 94000.0]\n",
            " [1.0 0.0 0.0 39.333333333333336 59000.0]\n",
            " [0.0 0.0 1.0 35.0 87000.0]\n",
            " [0.0 1.0 0.0 37.0 80000.0]\n",
            " [0.0 0.0 1.0 50.0 78000.0]]\n"
          ],
          "name": "stdout"
        }
      ]
    },
    {
      "cell_type": "code",
      "metadata": {
        "id": "Lac8gMUvXJA-"
      },
      "source": [
        "from sklearn.preprocessing import LabelEncoder\n",
        "le = LabelEncoder()\n",
        "y = le.fit_transform(y)"
      ],
      "execution_count": 16,
      "outputs": []
    },
    {
      "cell_type": "code",
      "metadata": {
        "colab": {
          "base_uri": "https://localhost:8080/"
        },
        "id": "1prRl4PgXZw8",
        "outputId": "5f4b9989-0fe1-4a88-c471-31dc9874216a"
      },
      "source": [
        "print(y)"
      ],
      "execution_count": 17,
      "outputs": [
        {
          "output_type": "stream",
          "text": [
            "[0 1 1 0 0 1 0 1 0 1]\n"
          ],
          "name": "stdout"
        }
      ]
    },
    {
      "cell_type": "code",
      "metadata": {
        "id": "PwKAlzPDXvhW"
      },
      "source": [
        "from sklearn.model_selection import train_test_split\n",
        "x_train, x_test, y_train, y_test = train_test_split(x,y, test_size=0.2, random_state=1)"
      ],
      "execution_count": 18,
      "outputs": []
    },
    {
      "cell_type": "code",
      "metadata": {
        "colab": {
          "base_uri": "https://localhost:8080/"
        },
        "id": "-sl-DjHEYW1V",
        "outputId": "1158fc66-5fbf-438c-b05c-fed6dfc3e9d0"
      },
      "source": [
        "print(x_train)"
      ],
      "execution_count": 19,
      "outputs": [
        {
          "output_type": "stream",
          "text": [
            "[[1.0 0.0 0.0 39.333333333333336 59000.0]\n",
            " [1.0 0.0 0.0 44.0 81000.0]\n",
            " [0.0 1.0 0.0 38.0 82000.0]\n",
            " [0.0 0.0 1.0 43.0 89000.0]\n",
            " [0.0 0.0 1.0 41.0 90000.0]\n",
            " [0.0 0.0 1.0 35.0 87000.0]\n",
            " [0.0 1.0 0.0 37.0 80000.0]\n",
            " [0.0 1.0 0.0 31.0 94000.0]]\n"
          ],
          "name": "stdout"
        }
      ]
    },
    {
      "cell_type": "code",
      "metadata": {
        "colab": {
          "base_uri": "https://localhost:8080/"
        },
        "id": "yoeA-ed0YjNc",
        "outputId": "3c57b84a-b4e3-402a-e738-4c09cd90ae20"
      },
      "source": [
        "print(x_test)"
      ],
      "execution_count": 20,
      "outputs": [
        {
          "output_type": "stream",
          "text": [
            "[[1.0 0.0 0.0 35.0 70000.0]\n",
            " [0.0 0.0 1.0 50.0 78000.0]]\n"
          ],
          "name": "stdout"
        }
      ]
    },
    {
      "cell_type": "code",
      "metadata": {
        "colab": {
          "base_uri": "https://localhost:8080/"
        },
        "id": "XAsCfYwpYn7t",
        "outputId": "69fea4fe-5306-4e2c-aaf5-324c2d79b550"
      },
      "source": [
        "print(y_train)"
      ],
      "execution_count": 21,
      "outputs": [
        {
          "output_type": "stream",
          "text": [
            "[0 0 0 0 1 1 0 1]\n"
          ],
          "name": "stdout"
        }
      ]
    },
    {
      "cell_type": "code",
      "metadata": {
        "colab": {
          "base_uri": "https://localhost:8080/"
        },
        "id": "YHHqj7c3YsEk",
        "outputId": "7f79659e-4baa-45b9-e040-74ba0cbf1103"
      },
      "source": [
        "print(y_test)"
      ],
      "execution_count": 22,
      "outputs": [
        {
          "output_type": "stream",
          "text": [
            "[1 1]\n"
          ],
          "name": "stdout"
        }
      ]
    },
    {
      "cell_type": "code",
      "metadata": {
        "id": "NI1DbzNhYyLt"
      },
      "source": [
        "from sklearn.preprocessing import StandardScaler\n",
        "sc = StandardScaler()\n",
        "x_train[:, 3:] = sc.fit_transform(x_train[:, 3:])\n",
        "x_test[:, 3:] = sc.transform(x_test[:, 3:])"
      ],
      "execution_count": 23,
      "outputs": []
    },
    {
      "cell_type": "code",
      "metadata": {
        "colab": {
          "base_uri": "https://localhost:8080/"
        },
        "id": "NI0xTjZmZh20",
        "outputId": "9c441f31-ddfa-4bce-a26a-bc41e0b32506"
      },
      "source": [
        "print(x_train)"
      ],
      "execution_count": 24,
      "outputs": [
        {
          "output_type": "stream",
          "text": [
            "[[1.0 0.0 0.0 0.19758463641598462 -2.3581115495452254]\n",
            " [1.0 0.0 0.0 1.3622940721312653 -0.17375558786122713]\n",
            " [0.0 1.0 0.0 -0.13518948807409634 -0.07446668051195449]\n",
            " [0.0 0.0 1.0 1.112713478763705 0.620555670932954]\n",
            " [0.0 0.0 1.0 0.6135522920285845 0.7198445782822267]\n",
            " [0.0 0.0 1.0 -0.8839312681767771 0.4219778562344087]\n",
            " [0.0 1.0 0.0 -0.3847700814416566 -0.2730444952104998]\n",
            " [0.0 1.0 0.0 -1.8822536416470181 1.1170002076793173]]\n"
          ],
          "name": "stdout"
        }
      ]
    },
    {
      "cell_type": "code",
      "metadata": {
        "colab": {
          "base_uri": "https://localhost:8080/"
        },
        "id": "muFB09mbZot7",
        "outputId": "7f4ba25c-9d53-4e9b-d70c-50d8c2d38a78"
      },
      "source": [
        "print(x_test)"
      ],
      "execution_count": 25,
      "outputs": [
        {
          "output_type": "stream",
          "text": [
            "[[1.0 0.0 0.0 -0.8839312681767771 -1.2659335687032263]\n",
            " [0.0 0.0 1.0 2.859777632336627 -0.471622309909045]]\n"
          ],
          "name": "stdout"
        }
      ]
    }
  ]
}